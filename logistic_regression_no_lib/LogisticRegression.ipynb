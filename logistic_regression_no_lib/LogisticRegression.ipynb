{
  "nbformat": 4,
  "nbformat_minor": 0,
  "metadata": {
    "colab": {
      "name": "LogisticRegression.ipynb",
      "provenance": []
    },
    "kernelspec": {
      "name": "python3",
      "display_name": "Python 3"
    },
    "language_info": {
      "name": "python"
    }
  },
  "cells": [
    {
      "cell_type": "code",
      "execution_count": 1,
      "metadata": {
        "id": "mPjzMnEQ52ZQ"
      },
      "outputs": [],
      "source": [
        "# Do not edit the codes in this cell\n",
        "# load required library\n",
        "import matplotlib.pyplot as plt\n",
        "import numpy as np\n",
        "from sklearn.datasets import load_iris\n",
        "# load dataset\n",
        "x, y = load_iris(return_X_y=True)"
      ]
    },
    {
      "cell_type": "code",
      "source": [
        "# Do not edit the codes in this cell\n",
        "# We use 100 samples and 2 features for logistic regression function\n",
        "x_lr = x[:100, :2] # class 0 and 1 balanced\n",
        "y_lr = y[:100]"
      ],
      "metadata": {
        "id": "cLsTZFZ856Cd"
      },
      "execution_count": 2,
      "outputs": []
    },
    {
      "cell_type": "code",
      "source": [
        "# Train Test Split \n",
        "from sklearn.model_selection import train_test_split\n",
        "\n",
        "X_train, X_test, y_train, y_test = train_test_split(x_lr, y_lr, train_size=0.8)\n",
        "\n",
        "def sigmoid(theta, features_X):\n",
        "    z = np.dot(features_X, theta)\n",
        "    s = 1 / (1 + np.exp(-z)) \n",
        "    return s\n",
        "\n",
        "def cost(theta, X, y):\n",
        "    hypothesis = sigmoid(theta,X)\n",
        "    cost_value = (-y * np.log(hypothesis) - (1 - y) * np.log(1 - hypothesis)).mean()\n",
        "    return cost_value\n",
        "\n",
        "def gradient(theta, X, y):\n",
        "    hypothesis = sigmoid(theta,X)\n",
        "    grad_desc = np.dot(X.T, (hypothesis - y)) / y.shape[0] \n",
        "    return grad_desc\n",
        "\n",
        "def predict(theta, X):\n",
        "    predict_probabilities = sigmoid(theta,X)\n",
        "    predict_labels = [1 if prob > 0.5 else 0 for prob in predict_probabilities]\n",
        "    return predict_labels\n",
        "\n",
        "def accurate(predictions, y):\n",
        "    accuracy_score = np.sum(y == predictions)/len(y) * 100 \n",
        "    return accuracy_score\n",
        "\n",
        "# draw decision boudary\n",
        "def draw_decision_boudary(final_theta,x,y):\n",
        "    fig, ax = plt.subplots()\n",
        "    #ax.set_ylim(ymin=0,ymax=5)\n",
        "    ax.set_xlim(xmin=0,xmax=8)\n",
        "    for g in np.unique(y):\n",
        "        ix = np.where(y == g)\n",
        "        ax.scatter(x[ix,0], x[ix,1], label = g, marker=['x','o'][g],c = ['red','blue'][g])\n",
        "    ax.legend(['Class 0', 'Class 1'])\n",
        "    plt.xlabel('Feature 1')\n",
        "    plt.ylabel('Feature 2')\n",
        "    plt.title('Decision boundary',size='20',pad='20')\n",
        "    plot_x = ([min(x[:,1]) - 4, max(x[:,1]) + 2])\n",
        "    plot_y =((-1/final_theta[1]) * (np.dot((final_theta[0]),(plot_x)) ))\n",
        "    plt.plot(plot_x, plot_y)\n",
        "    plt.show()\n",
        "\n",
        "# print (final_theta)\n",
        "\n",
        "from scipy import optimize as opt\n",
        "# x_lr = np.concatenate((np.array([np.ones(len(y_lr))]).T, x), axis=1)\n",
        "# theta = np.zeros(x.shape[1])\n",
        "theta = np.zeros(x_lr.shape[1])\n",
        "result = opt.fmin_tnc(func=cost, x0=theta, fprime=gradient, args=(X_train, y_train))\n",
        "final_theta = result[0]\n",
        "final_cost = cost(final_theta, X_train, y_train)\n",
        "predictions = predict(final_theta, X_test)\n",
        "accuracy = accurate(predictions, y_test)\n",
        "# print(\"final cost is \" + str(final_cost))\n",
        "print(\"accuracy is \" + str(accuracy) + \"%\")\n",
        "# print('Mean Accuracy: %.3f%%' % (sum(scores)/float(len(scores))))\n",
        "\n",
        "draw_decision_boudary(final_theta, x_lr, y_lr)"
      ],
      "metadata": {
        "colab": {
          "base_uri": "https://localhost:8080/",
          "height": 331
        },
        "id": "Yr1xubi457tv",
        "outputId": "e1487c97-9d58-42e1-d731-2ab0bd9bfa51"
      },
      "execution_count": 6,
      "outputs": [
        {
          "output_type": "stream",
          "name": "stdout",
          "text": [
            "accuracy is 100.0%\n"
          ]
        },
        {
          "output_type": "display_data",
          "data": {
            "image/png": "[encoded data removed]",
            "text/plain": [
              "<Figure size 432x288 with 1 Axes>"
            ]
          },
          "metadata": {
            "needs_background": "light"
          }
        }
      ]
    },
    {
      "cell_type": "code",
      "source": [
        ""
      ],
      "metadata": {
        "id": "RQzy_G3w5-eX"
      },
      "execution_count": 5,
      "outputs": []
    },
    {
      "cell_type": "code",
      "source": [
        ""
      ],
      "metadata": {
        "id": "Sua-nZbq6FWI"
      },
      "execution_count": null,
      "outputs": []
    }
  ]
}